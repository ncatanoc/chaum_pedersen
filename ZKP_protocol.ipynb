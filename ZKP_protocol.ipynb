{
  "cells": [
    {
      "cell_type": "markdown",
      "metadata": {
        "id": "L6j7O0FXU50k"
      },
      "source": [
        "# Nestor Catano (nestor.catano@berkeley.edu)\n",
        "## Prototype implementation of the Chaum–Pedersen Protocol\n",
        "## Based on the book: Cryptography: An Introduction, 3rd edition, by Nigel Smart\n",
        "\n",
        "Chaum-Pedersen protocol is a zero-knowledge protocol (ZKP). The protocol considers two actors that interact, a prover (Peggy) and a verifier (Kevin). Peggy wants to convince Kevin that she knows something. She is called a prover because she needs to conduct and enclose a correctness proof. He is called a verifier because needs to check her proof. The protocol is run over four steps. A **commitment-step** in which she identifies herself. A **challenge-step** in which he generates a challenge for her to solve. And, a **response-step** in which she solves the challenge and sends him a proof of it. Finally, he needs to **verify the challenge** and act accordingly. Refer to the book above for a detailed explanation of each of these steps (Chapter 25, Section 3.2).\n",
        "\n",
        "Following page 375 of the said book, a three round protocol has the **special soundness** property if given two protocol runs with the same commitments <code>r</code>, but different challenges <code>c</code> one can recover the prover's secrete <code>x</code>. Suppose that we have two protocol runs <code>(r,c,s)</code> and <code>(r,c',s')</code>.\n",
        "\n",
        "This NoteBook contains an implementation of Chaum-Pedersen protocol. We have manually written unit tests that increase our confidence in the correctness of our implementation. We further discuss underlying challenges of the implementation. \n",
        "\n"
      ]
    },
    {
      "cell_type": "markdown",
      "metadata": {
        "id": "dYaGhxtMVT5o"
      },
      "source": [
        "## Architecture of the Chaum-Pederson protocol\n",
        "\n",
        "Our implementation has 3 parts that run independently, namely, the **server side** (Kevin, the verifier), the **client side** (Peggy, the prover), and some  **common-info** that's shared between the server and the client. These three parts can be implemented, for instance, using a distributed architecture, or in the cloud. Our implementation is a skeleton prototype implementation that sheers light on the challenges and issues that a full-fledged implementation would pose. This is a prototype implementation, so we do not necessarily claim that Python itself is the best choice for a target language implementation. Our implementation is an object-oriented implementation. We do not claim object orientation is the best-suited programming paradigm for implementing Chaum-Pederson; in fact, many Python programs are written using a functional style of programming. Nevertheless, object orientation is well-suited for implementing state interaction, e.g., if one wants to make sure that a **response-step** is only executed right after a **challenge-step**.\n",
        "\n",
        "We use Python's **numpy** library (<code>np</code>) to conduct mathematical calculations over integer number, and to generate prime numbers. The code we use for generating large prime numbers is not ours. We use <code>np.int64</code> to represent integer numbers."
      ]
    },
    {
      "cell_type": "markdown",
      "metadata": {
        "id": "vXp35mSKjFz4"
      },
      "source": [
        "Let's first show some information on how **numpy** represents integers of size 64, which we will be using to represent public and private information of our ZKP (zero-knowledge-protocol)."
      ]
    },
    {
      "cell_type": "code",
      "execution_count": 1,
      "metadata": {
        "id": "WsoQL1CPXHNp"
      },
      "outputs": [],
      "source": [
        "import numpy as np"
      ]
    },
    {
      "cell_type": "code",
      "execution_count": 2,
      "metadata": {
        "colab": {
          "base_uri": "https://localhost:8080/"
        },
        "id": "Rl0booytjA7l",
        "outputId": "a9b2f5ca-7c18-4144-b90e-865059fcbaa0"
      },
      "outputs": [
        {
          "output_type": "stream",
          "name": "stdout",
          "text": [
            "Machine parameters for int64\n",
            "---------------------------------------------------------------\n",
            "min = -9223372036854775808\n",
            "max = 9223372036854775807\n",
            "---------------------------------------------------------------\n",
            "\n"
          ]
        }
      ],
      "source": [
        "ii64 =  np.iinfo(np.int64)\n",
        "print(ii64)"
      ]
    },
    {
      "cell_type": "markdown",
      "metadata": {
        "id": "nJDucLkzCm8S"
      },
      "source": [
        "## Prime numbers\n",
        "We need to implement code that generates large number primes. The code below is not ours, it's been taken from [here](https://github.com/NikolaiT/Large-Primes-for-RSA/blob/master/generate_primes.py). It generates a list of prime numbers of some size. This code should be run once. "
      ]
    },
    {
      "cell_type": "code",
      "execution_count": 3,
      "metadata": {
        "id": "s40FvbtQ_z8M"
      },
      "outputs": [],
      "source": [
        "import re\n",
        "import random\n",
        "import math\n",
        "\n",
        "\"\"\"\n",
        "Generate prime numbers with the Miller-Rabin Primality Test.\n",
        "For example useful for RSA prime number generation.\n",
        "    sys\t0m0.020s\n",
        "\"\"\"\n",
        "\n",
        "def fermat_primality_test(p, s=5):\n",
        "    \"\"\"\n",
        "    a^(p-1) ≡ 1 mod p\n",
        "    Input: prime candidate p and security paramter s\n",
        "    Output: either p is a composite (always trues), or\n",
        "            p is a prime (with probability)\n",
        "    \"\"\"\n",
        "    if p == 2:\n",
        "        return True\n",
        "    if not p & 1: # if p is even, number cant be a prime\n",
        "        return False\n",
        "\n",
        "    for i in range(s):\n",
        "        a = random.randrange(2, p-2)\n",
        "        x = pow(a, p-1, p) # a**(p-1) % p\n",
        "        if x != 1:\n",
        "            return False\n",
        "    return True\n",
        "\n",
        "def square_and_multiply(x, k, p=None):\n",
        "    \"\"\"\n",
        "    Square and Multiply Algorithm\n",
        "    Parameters: positive integer x and integer exponent k,\n",
        "                optional modulus p\n",
        "    Returns: x**k or x**k mod p when p is given\n",
        "    \"\"\"\n",
        "    b = bin(k).lstrip('0b')\n",
        "    r = 1\n",
        "    for i in b:\n",
        "        r = r**2\n",
        "        if i == '1':\n",
        "            r = r * x\n",
        "        if p:\n",
        "            r %= p\n",
        "    return r\n",
        "\n",
        "def miller_rabin_primality_test(p, s=5):\n",
        "    if p == 2: # 2 is the only prime that is even\n",
        "        return True\n",
        "    if not (p & 1): # n is a even number and can't be prime\n",
        "        return False\n",
        "\n",
        "    p1 = p - 1\n",
        "    u = 0\n",
        "    r = p1  # p-1 = 2**u * r\n",
        "\n",
        "    while r % 2 == 0:\n",
        "        r >>= 1\n",
        "        u += 1\n",
        "\n",
        "    # at this stage p-1 = 2**u * r  holds\n",
        "    assert p-1 == 2**u * r\n",
        "\n",
        "    def witness(a):\n",
        "        \"\"\"\n",
        "        Returns: True, if there is a witness that p is not prime.\n",
        "                False, when p might be prime\n",
        "        \"\"\"\n",
        "        z = square_and_multiply(a, r, p)\n",
        "        if z == 1:\n",
        "            return False\n",
        "\n",
        "        for i in range(u):\n",
        "            z = square_and_multiply(a, 2**i * r, p)\n",
        "            if z == p1:\n",
        "                return False\n",
        "        return True\n",
        "\n",
        "    for j in range(s):\n",
        "        a = random.randrange(2, p-2)\n",
        "        if witness(a):\n",
        "            return False\n",
        "\n",
        "    return True\n",
        "\n",
        "def generate_primes(n=512, k=1):\n",
        "    \"\"\"\n",
        "    Generates prime numbers with bitlength n.\n",
        "    Stops after the generation of k prime numbers.\n",
        "    Caution: The numbers tested for primality start at\n",
        "    a random place, but the tests are drawn with the integers\n",
        "    following from the random start.\n",
        "    \"\"\"\n",
        "    assert k > 0\n",
        "    assert n > 0 and n < 4096\n",
        "\n",
        "    # follows from the prime number theorem\n",
        "    necessary_steps = math.floor( math.log(2**n) / 2 )\n",
        "    # get n random bits as our first number to test for primality\n",
        "    x = random.getrandbits(n)\n",
        "\n",
        "    primes = []\n",
        "\n",
        "    while k>0:\n",
        "        if miller_rabin_primality_test(x, s=7):\n",
        "            primes.append(x)\n",
        "            k = k-1\n",
        "        x = x+1\n",
        "\n",
        "    return primes"
      ]
    },
    {
      "cell_type": "markdown",
      "metadata": {
        "id": "UvzQo2U5IvP-"
      },
      "source": [
        "## Generating prime number <code>p</code>\n",
        "In the Chaum-Pedersem protocol, calculations are conducted modulo <code>p</code> (a prime number). We chose <code>bitlength = 32</code> to represent our integers. Object <code>p</code> is part of the <code>CommonInfo</code> object (discussed larter on), which is available to both **the verifier** and **the prover**. "
      ]
    },
    {
      "cell_type": "code",
      "execution_count": 4,
      "metadata": {
        "colab": {
          "base_uri": "https://localhost:8080/"
        },
        "id": "8AI3PdOjIsau",
        "outputId": "1a91f355-ee20-4917-a4a7-feced2f79adb"
      },
      "outputs": [
        {
          "output_type": "stream",
          "name": "stdout",
          "text": [
            "<class 'numpy.int64'>\n"
          ]
        },
        {
          "output_type": "execute_result",
          "data": {
            "text/plain": [
              "19333"
            ]
          },
          "metadata": {},
          "execution_count": 4
        }
      ],
      "source": [
        "bitlength = 16\n",
        "numprimes = 1\n",
        "primes = generate_primes(n=bitlength,k=numprimes)\n",
        "p = primes[0]\n",
        "q = np.int64(p) # converting the prime number from int to int64\n",
        "print(type(q))\n",
        "q"
      ]
    },
    {
      "cell_type": "markdown",
      "metadata": {
        "id": "CM8CR3KHYKdU"
      },
      "source": [
        "## The Common-Info\n",
        "Class <code>CommonInfo</code> implements functionality that stores and manipulates common information shared between **the server** and **the client**. The constructor of the class (see <code>__init__(self,m,q)</code>) is parametrised by a maximum integer size value <code>m</code> and a prime number <code>q</code>. Computations are conducted modulo <code>q</code>. Hence, one needs to create (a list of) prime number before instantiating this class. Class <code>CommonInfo</code> gathers information for public functions <code>g</code> and <code>h</code> (used for ciphering secrete information).\n",
        "\n",
        "The class implements a <code>exp_mod_q(a,b)</code> function that calculates <code>a^b mod q</code>. This function implements the **repeated squaring** algorithm. We have optimised the code of this function to prevent integer overflow exceptions modulo <code>q</code>. The optimisation is documented within the code."
      ]
    },
    {
      "cell_type": "code",
      "execution_count": 5,
      "metadata": {
        "id": "oW38im8Su_p2"
      },
      "outputs": [],
      "source": [
        "class CommonInfo:\n",
        "  \"\"\" This class encloses the public info that's available to both the prover  \n",
        "  and the verifier.\n",
        "  \"\"\"\n",
        "  def __init__(self,m,q):\n",
        "    \"\"\" m is the maximum size of _g and _h.\n",
        "        g is a padding function, a number.\n",
        "        h is a hashing function, a number.\n",
        "        q is a prime number. Multiplications and additions are conducted \n",
        "        modulo _q.\n",
        "    \"\"\"\n",
        "    self._g = np.random.randint(0, m, dtype=np.int64)\n",
        "    self._h = np.random.randint(0, m, dtype=np.int64)\n",
        "    self._m = m # maximum integer number\n",
        "    self._q = q # operations are modulo p\n",
        "\n",
        "  def get_g(self):\n",
        "    \"\"\" It returns function g.\n",
        "    \"\"\"\n",
        "    return self._g\n",
        "\n",
        "  def get_h(self):\n",
        "    \"\"\" It returns function h.\n",
        "    \"\"\"\n",
        "    return self._h\n",
        "\n",
        "  def get_q(self):\n",
        "    \"\"\" It returns prime number q.\n",
        "    \"\"\"\n",
        "    return self._q\n",
        "\n",
        "  def get_maxsize(self):\n",
        "    \"\"\" It returns the maximum integer size m.\n",
        "    \"\"\"\n",
        "    return self._m\n",
        "\n",
        "  def exp_mod_q(self,a,b):\n",
        "    \"\"\"It calculates a^b (mod q) using the method for\n",
        "    repeated squaring.\"\"\"\n",
        "\n",
        "    q = self.get_q()\n",
        "    t = 1;\n",
        "    while(b > 0):\n",
        "      if (b % 2 != 0): # if b is odd\n",
        "        # we have modidfied two lines below so that instead of multiplying two \n",
        "        # numbers and then calculating the modulo-q value, we calculate\n",
        "        # the modulo-q values before and after multiplying the two numbers.\n",
        "        \n",
        "        #t = (t * a) % q;\n",
        "        t = ((t % q) * (a % q)) % q\n",
        "\n",
        "      #a = (a * a) % q;\n",
        "      a = ((a%q) * (a%q)) % q\n",
        "      b = int(b / 2);\n",
        "    return t % q\n"
      ]
    },
    {
      "cell_type": "markdown",
      "metadata": {
        "id": "zfuHuUKBdSpg"
      },
      "source": [
        "# The Prover\n",
        "Class <code>Peggy</code> implements **the prover**. The class implements two steps of the Chaum-Pedersem protocol, namely the **commitment-step** through the function <code>commitment(self)</code>, and the **response-step** through the function <code>solve_challenge(self,c)</code>. We optimised the code of the <code>solve_challenge</code> function (details are explained within the code)."
      ]
    },
    {
      "cell_type": "code",
      "execution_count": 6,
      "metadata": {
        "id": "XZ_rlGX-XQHa"
      },
      "outputs": [],
      "source": [
        "class Peggy: \n",
        "  \"\"\" This class implements the prover. The class has 3 fields, x, k, and pinfo, \n",
        "  which are private to the class; pinfo is the public info shared between Peggy\n",
        "  and the server. Variable x is peggy's password, which is secret and created \n",
        "  randomly. Variabke k is used to conceal peggy's secret password. Peggy's\n",
        "  password can be reset.\n",
        "\n",
        "  This class implements two steps of the Chaum-Pedersem protocol, namely, the\n",
        "  commitment-step and the response-step.\n",
        "  \"\"\"\n",
        "  def __init__(self,desc,pinfo):\n",
        "    \"\"\"x is Peggy's password, initally created as a random value.\n",
        "    k is a padding variable used to conceal x.\n",
        "    pinfo is an object reference to the public information that Peggy shares\n",
        "    with the verifier.\n",
        "    desc is a string prover representation\n",
        "    \"\"\"\n",
        "    m = pinfo.get_maxsize()\n",
        "    msqrt = np.int64(np.sqrt(np.sqrt(m)))\n",
        "    self._x = np.random.randint(0, msqrt, dtype=np.int64) \n",
        "    self._k = np.random.randint(msqrt, m, dtype=np.int64) \n",
        "    self._pinfo = pinfo\n",
        "    self._desc = desc\n",
        "\n",
        "  def __str__(self):\n",
        "    \"\"\"String representation of the class.\"\"\"\n",
        "    return self._desc \n",
        "  \n",
        "  def reset_k(self, k):\n",
        "    \"\"\"It resets k's value.\"\"\"\n",
        "    self._k = np.random.randint(0, self._pinfo.get_maxsize(), dtype=np.int64)\n",
        "  \n",
        "  def set_x(self, x):\n",
        "    \"\"\"It resets x.\"\"\"\n",
        "    self._x = x\n",
        "\n",
        "  def commitment(self,verbose=False):\n",
        "    \"\"\"prover's commitment step.\"\"\"\n",
        "    g = self._pinfo.get_g() # g is public\n",
        "    h = self._pinfo.get_h() # h is public\n",
        "    k = self._k # k is private to peggy\n",
        "    x = self._x # x is private to peggy\n",
        "\n",
        "    # r1,r2,y1,y2 are transmitted to the server\n",
        "    r1 = self._pinfo.exp_mod_q(g,k)\n",
        "    r2 = self._pinfo.exp_mod_q(h,k)\n",
        "    y1 = self._pinfo.exp_mod_q(g,x)\n",
        "    y2 = self._pinfo.exp_mod_q(h,x)\n",
        "    \n",
        "    # cmt is a dictionary (a hash map)\n",
        "    cmt = {'r1':r1,'r2':r2,'y1':y1,'y2':y2}\n",
        "\n",
        "    if verbose == True:\n",
        "      print('x: ', x)\n",
        "      print('k: ', k)\n",
        "      print('r1: ', r1)\n",
        "      print('r2: ', r2)\n",
        "      print('y1: ', y1)\n",
        "      print('y2: ', y2)\n",
        "\n",
        "    return cmt\n",
        "  \n",
        "  def solve_challenge(self,c):\n",
        "    \"\"\"prover's response step.\"\"\"\n",
        "    k = self._k\n",
        "    x = self._x \n",
        "    q = self._pinfo.get_q()\n",
        "    c_x = c*x\n",
        "    # this step is tuned elsewhere, notice that we are using integer \n",
        "    # arithmetic here, hence s cannot be negative, otherwise, g^s and h^s will \n",
        "    # mistakenly be approximated to 1. We made sure elsewhere that \n",
        "    # the values of c and x are such that their multiplication is less than k.\n",
        "    s = k - c_x \n",
        "    return s"
      ]
    },
    {
      "cell_type": "markdown",
      "metadata": {
        "id": "mum7OLUzicqQ"
      },
      "source": [
        "# The Server\n",
        "Code that implements the functionality of **the server**. Function <code>protocol(self,prover)</code> implements the Chaum-Pedersem protocol. Function <code>generate_challenge(self,prover)</code> implements the **challenge_step**, and function <code>check_response(self,prover,cmt,s,c)</code> is the last step of the protocol whereby the prover checks if the verifier solved the challenge adequately."
      ]
    },
    {
      "cell_type": "code",
      "execution_count": 7,
      "metadata": {
        "id": "yYG_7kakYURI"
      },
      "outputs": [],
      "source": [
        "class Kevin:\n",
        "  \"\"\" This class implements the server. \"\"\"\n",
        " \n",
        "  def __init__(self,pinfo):\n",
        "    \"\"\"\n",
        "    pinfo is an object reference to the common information shared with \n",
        "    clients (provers).\n",
        "    c is a generated challenge\n",
        "    \"\"\"\n",
        "    self._pinfo = pinfo\n",
        "    self._c = None\n",
        "\n",
        "  def __str__(self):\n",
        "    \"\"\"String representation of the class.\"\"\"\n",
        "    return \"Verifier:\"\n",
        "\n",
        "  def generate_challenge(self,prover):\n",
        "    \"\"\"prover is the client for which the challenge is generated.\n",
        "    It returns a random challenge. \n",
        "    \"\"\"\n",
        "    m = pinfo.get_maxsize()\n",
        "    msqrt = np.int64(np.sqrt(np.sqrt(m)))\n",
        "    c = np.random.randint(0, msqrt, dtype=np.int64) \n",
        "    self._c = c\n",
        "    return c\n",
        "\n",
        "  def check_response(self,prover,cmt,s,verbose=False):\n",
        "    \"\"\"prover is the client for whom the response is checked.\n",
        "    cmt is the prover's response generated during the commitment step.\n",
        "    \"\"\"\n",
        "    g = self._pinfo.get_g()\n",
        "    h = self._pinfo.get_h()\n",
        "    q = self._pinfo.get_q()\n",
        "    c = self._c # challenge generated for prover\n",
        "    #\n",
        "    r1 = cmt['r1']\n",
        "    r2 = cmt['r2']\n",
        "    y1 = cmt['y1']\n",
        "    y2 = cmt['y2']\n",
        "    #\n",
        "    g_s =  self._pinfo.exp_mod_q(g,s)\n",
        "    h_s =  self._pinfo.exp_mod_q(h,s)\n",
        "    y1_c =  self._pinfo.exp_mod_q(y1,c)\n",
        "    y2_c =  self._pinfo.exp_mod_q(y2,c)\n",
        "    #\n",
        "    r1_c = (g_s*y1_c)%q\n",
        "    r2_c = (h_s*y2_c)%q\n",
        "\n",
        "    if verbose==True:\n",
        "      print('s: ',s)\n",
        "      print('c: ',c)\n",
        "      print('g_s: ',g_s)\n",
        "      print('h_s: ',h_s)\n",
        "      print('y1_c: ',y1_c)\n",
        "      print('y2_c: ',y2_c)\n",
        "\n",
        "    return r1==r1_c and r2==r2_c\n",
        "\n",
        "  def protocol(self,prover,verbose=False):\n",
        "    # commitment step\n",
        "    cmt = prover.commitment(verbose)\n",
        "    # challenge step\n",
        "    c = self.generate_challenge(prover)\n",
        "    # response step\n",
        "    s = prover.solve_challenge(c)\n",
        "    # verification step\n",
        "    resp = self.check_response(prover,cmt,s,verbose)\n",
        "    return resp\n",
        "\n"
      ]
    },
    {
      "cell_type": "markdown",
      "metadata": {
        "id": "0sxXFVmJVR8p"
      },
      "source": [
        "## Simple prototocol interaction (1)"
      ]
    },
    {
      "cell_type": "code",
      "execution_count": 8,
      "metadata": {
        "colab": {
          "base_uri": "https://localhost:8080/"
        },
        "id": "T0tAedL7ZcCA",
        "outputId": "a108264d-8682-4eb5-9519-090e5b8d8ad9"
      },
      "outputs": [
        {
          "output_type": "stream",
          "name": "stdout",
          "text": [
            "x:  5\n",
            "k:  46390\n",
            "r1:  18891\n",
            "r2:  12494\n",
            "y1:  14719\n",
            "y2:  7417\n",
            "s:  46320\n",
            "c:  14\n",
            "g_s:  5212\n",
            "h_s:  13699\n",
            "y1_c:  2500\n",
            "y2_c:  12358\n",
            "g:  3307\n",
            "h:  11925\n",
            "q:  19333\n",
            "protocol's response:  True\n"
          ]
        }
      ],
      "source": [
        "# the common info\n",
        "maxsize = 2**bitlength\n",
        "pinfo = CommonInfo(maxsize,q)\n",
        "\n",
        "# the prover \n",
        "peggy = Peggy('peggy',pinfo)\n",
        "\n",
        "# the verifier\n",
        "kevin = Kevin(pinfo) \n",
        "resp = kevin.protocol(peggy,verbose=True)\n",
        "\n",
        "print('g: ' ,pinfo.get_g())\n",
        "print('h: ' ,pinfo.get_h())\n",
        "print('q: ' ,pinfo.get_q())\n",
        "\n",
        "print('protocol\\'s response: ', resp)"
      ]
    },
    {
      "cell_type": "markdown",
      "metadata": {
        "id": "6hw4kiSSn2Hc"
      },
      "source": [
        "# Unit testing (part one)\n",
        "The single test above can be reproduced using the <code>unittest</code> framework of Python."
      ]
    },
    {
      "cell_type": "code",
      "execution_count": 9,
      "metadata": {
        "colab": {
          "base_uri": "https://localhost:8080/"
        },
        "id": "Ol4TqRoms45D",
        "outputId": "7c4d74b2-88ac-4275-940d-26f923d20c26"
      },
      "outputs": [
        {
          "output_type": "stream",
          "name": "stderr",
          "text": [
            ".\n",
            "----------------------------------------------------------------------\n",
            "Ran 1 test in 0.003s\n",
            "\n",
            "OK\n"
          ]
        }
      ],
      "source": [
        "import unittest\n",
        "\n",
        "class TestStringMethods(unittest.TestCase):\n",
        "\n",
        "    def test_simple(self):\n",
        "      peggy = Peggy('peggy',pinfo)\n",
        "      kevin = Kevin(pinfo) \n",
        "      resp = kevin.protocol(peggy)\n",
        "      self.assertTrue(resp)\n",
        "\n",
        "if __name__ == '__main__':\n",
        "    unittest.main(argv=['first-arg-is-ignored'], exit=False)\n"
      ]
    },
    {
      "cell_type": "markdown",
      "metadata": {
        "id": "ELfEg67MFK09"
      },
      "source": [
        "# Discussion (part one)\n",
        "\n",
        "We next discuss some issues of our implementation, suggest some solutions, and offer perspectives on related challenges. \n",
        "\n",
        "---\n",
        "*   The server should be parametrised by the registered provers (clients). Hence, every time a prover calls a method of the verifier, the call and every data generated by the verifier should be registered and tracked back by the particular prover instance.\n",
        "\n",
        "* One particular issue in our implementation is that the verifier is stateless, which means that, for instance, the verifier can perform a challenge-step without a prior prover's commitment-step. More concretely, a challenge should be issued to a prover only if the prover had performed a commitment-step during the previous state. Otherwise, we must allow a prover state-transition interleaving semantics for different verifiers.\n",
        "\n",
        "* Provers should be ascribed to one or several verifiers.\n",
        "---\n",
        "\n",
        "Let's summarise the changes made to the prover:\n",
        "\n",
        "*   Variable <code>self._challenges</code> is a set of pairs that records challenge per prover instance.\n",
        "*   Function <code>generate_challenge(self,prover)</code> associates <code>prover</code> with the generated challenge.\n",
        "* Constructor <code>__init__(self,pinfo,provers)</code> is now parametrised by a list of <code>provers</code>.\n",
        "* <code>check_response(self,prover,cmt,s)</code> includes code <code>if c == None: return False</code> that returns <code>False</code> when no challenge associated to <code>prover</code> exists. This is the case for instance, when some prover makes a commitment-step but a second prover attempts to performm a solve-challenge step (see <code>test_03</code> below).\n",
        "* <code>protocol(self,prover)</code> includes code <code>if not( prover in self._provers): return False</code> that returns <code>False</code> if <code>prover</code> is not a registered prover.\n"
      ]
    },
    {
      "cell_type": "code",
      "execution_count": 10,
      "metadata": {
        "id": "TIfSrN_TNaRs"
      },
      "outputs": [],
      "source": [
        "class Kevin:\n",
        "  \"\"\" This class implements the server. \"\"\"\n",
        " \n",
        "  def __init__(self,pinfo,provers):\n",
        "    \"\"\"\n",
        "    pinfo is an object reference to the common information shared with \n",
        "    clients (provers).\n",
        "    \"\"\"\n",
        "    self._pinfo = pinfo\n",
        "    # set of provers registered with the sever\n",
        "    self._provers = provers\n",
        "    # challenges is a partial function; we model it as a \n",
        "    # set of pairs (prover,challenge) \n",
        "    self._challenges = set([])\n",
        "\n",
        "  def __str__(self):\n",
        "    \"\"\"String representation of the class.\"\"\"\n",
        "    return \"Verifier:\"\n",
        "\n",
        "  def generate_challenge(self,prover):\n",
        "    \"\"\"prover is the client for which the challenge is generated.\n",
        "    The challenge c generated is stored as self.challenges(prover) = c\n",
        "    \"\"\"\n",
        "    m = pinfo.get_maxsize()\n",
        "    msqrt = np.int64(np.sqrt(np.sqrt(m)))\n",
        "    c = np.random.randint(0, msqrt, dtype=np.int64) \n",
        "    self._challenges.add((prover,c))\n",
        "    return c\n",
        "\n",
        "  def get_challenge(self,prover):\n",
        "    \"\"\"it returns the challenge associated with the parameter prover (if any).\n",
        "    \"\"\"\n",
        "    for (p,c) in self._challenges:\n",
        "      if p == prover: return c\n",
        "\n",
        "  def set_challenge(self,prover,c):\n",
        "    \"\"\"it sets c as the challenge for the prover.\n",
        "    \"\"\"\n",
        "    # to remove any previous association \n",
        "    challenges = self._challenges.copy()\n",
        "    for (p1,c1) in challenges:\n",
        "      if p1 == prover: \n",
        "        self._challenges.remove((p1,c1))\n",
        "\n",
        "    # to add the challenge\n",
        "    self._challenges.add((prover,c))\n",
        "\n",
        "  def check_response(self,prover,cmt,s):\n",
        "    \"\"\"prover is the client for whom the response is checked.\n",
        "    cmt is the prover's response generated during the commitment step.\n",
        "    \"\"\"\n",
        "    g = self._pinfo.get_g()\n",
        "    h = self._pinfo.get_h()\n",
        "    q = self._pinfo.get_q()\n",
        "    c = self.get_challenge(prover) # challenge generated for the 'prover'\n",
        "    \n",
        "    # new check: \n",
        "    # we check that a challenge c for prover exists\n",
        "    if c == None: \n",
        "      return False\n",
        "    #\n",
        "    r1 = cmt['r1']\n",
        "    r2 = cmt['r2']\n",
        "    y1 = cmt['y1']\n",
        "    y2 = cmt['y2']\n",
        "    #\n",
        "    g_s =  self._pinfo.exp_mod_q(g,s)\n",
        "    h_s =  self._pinfo.exp_mod_q(h,s)\n",
        "    y1_c =  self._pinfo.exp_mod_q(y1,c)\n",
        "    y2_c =  self._pinfo.exp_mod_q(y2,c)\n",
        "    #\n",
        "    r1_c = (g_s*y1_c)%q\n",
        "    r2_c = (h_s*y2_c)%q\n",
        "\n",
        "    return r1==r1_c and r2==r2_c\n",
        "\n",
        "  def protocol(self,prover):\n",
        "    # new check:\n",
        "    # we check the prover is a registed prover\n",
        "    if not( prover in self._provers ):\n",
        "      return False\n",
        "\n",
        "    # commitment step\n",
        "    cmt = prover.commitment()\n",
        "    # challenge step\n",
        "    self.generate_challenge(prover)\n",
        "    c = self.get_challenge(prover)\n",
        "    # response step\n",
        "    s = prover.solve_challenge(c)\n",
        "    # verification step\n",
        "    resp = self.check_response(prover,cmt,s)\n",
        "    return resp"
      ]
    },
    {
      "cell_type": "markdown",
      "metadata": {
        "id": "7oHyPTNsWYW6"
      },
      "source": [
        "## Simple protocol interaction (2)\n",
        "\n",
        "Let's first repeat the same unit-testing experiment before diving into something more complicated with <code>unittest</code>. "
      ]
    },
    {
      "cell_type": "code",
      "execution_count": 11,
      "metadata": {
        "colab": {
          "base_uri": "https://localhost:8080/"
        },
        "id": "FEWRAlarkPJC",
        "outputId": "91f7dfd4-99c6-415e-d387-2bf3dc07247e"
      },
      "outputs": [
        {
          "output_type": "stream",
          "name": "stdout",
          "text": [
            "protocol's response:  True\n"
          ]
        }
      ],
      "source": [
        "# the common info\n",
        "maxsize = 2**bitlength\n",
        "pinfo = CommonInfo(maxsize,q)\n",
        "\n",
        "# the prover \n",
        "peggy = Peggy('peggy',pinfo)\n",
        "provers = [peggy]\n",
        "\n",
        "# the verifier\n",
        "kevin = Kevin(pinfo,provers) \n",
        "resp = kevin.protocol(peggy)\n",
        "print('protocol\\'s response: ', resp)"
      ]
    },
    {
      "cell_type": "markdown",
      "metadata": {
        "id": "DFf4s5GqXNjd"
      },
      "source": [
        "# Unit Testing (part two)"
      ]
    },
    {
      "cell_type": "code",
      "execution_count": 12,
      "metadata": {
        "colab": {
          "base_uri": "https://localhost:8080/"
        },
        "id": "Zf-OxiTIkWnV",
        "outputId": "96c7e33b-fb79-4387-9b12-eda32988ef56"
      },
      "outputs": [
        {
          "output_type": "stream",
          "name": "stderr",
          "text": [
            "......\n",
            "----------------------------------------------------------------------\n",
            "Ran 6 tests in 0.030s\n",
            "\n",
            "OK\n"
          ]
        }
      ],
      "source": [
        "import unittest\n",
        "\n",
        "class TestStringMethods(unittest.TestCase): \n",
        "\n",
        "    def test_01(self):\n",
        "      \"\"\"|\n",
        "      it tests a simple interaction between prover and verifier\n",
        "      \"\"\"\n",
        "      peggy = Peggy('peggy',pinfo)\n",
        "      kevin = Kevin(pinfo,[peggy]) \n",
        "      resp = kevin.protocol(peggy)\n",
        "      self.assertTrue(resp)\n",
        "\n",
        "    def test_02(self):\n",
        "      \"\"\"\n",
        "      it's a more granular version of test_01\n",
        "      \"\"\"\n",
        "      peggy = Peggy('peggy',pinfo) # the prover\n",
        "      kevin = Kevin(pinfo,[peggy]) # the verifier\n",
        "\n",
        "      # commitment step\n",
        "      cmt = peggy.commitment()\n",
        "      # challenge step\n",
        "      kevin.generate_challenge(peggy)\n",
        "      c = kevin.get_challenge(peggy)\n",
        "      # response step\n",
        "      s = peggy.solve_challenge(c)\n",
        "      # verification step\n",
        "      resp = kevin.check_response(peggy,cmt,s)\n",
        "      self.assertTrue(resp)\n",
        "\n",
        "    def test_03(self):\n",
        "      \"\"\"\n",
        "      it tests that the prover cannot solve a challenge other than the\n",
        "      one generated by the verifier for the prover\n",
        "      \"\"\"\n",
        "      peggy = Peggy('peggy',pinfo)\n",
        "      kevin = Kevin(pinfo,[peggy]) \n",
        "\n",
        "      # commitment step\n",
        "      cmt = peggy.commitment()\n",
        "      # challenge step\n",
        "      kevin.generate_challenge(peggy)\n",
        "      c = kevin.get_challenge(peggy)\n",
        "      # response step\n",
        "      s = peggy.solve_challenge(c+1) # it tries to solve a different challenge\n",
        "      # verification step\n",
        "      resp = kevin.check_response(peggy,cmt,s)\n",
        "      self.assertFalse(resp)\n",
        "      self.assertFalse((c+1) == kevin.get_challenge(peggy))\n",
        "    \n",
        "    def test_04(self):\n",
        "      \"\"\"\n",
        "      it tests that only peggy (and not alice) can solve a challenge\n",
        "      for a commitment that peggy made.\n",
        "      \"\"\"\n",
        "      peggy = Peggy('peggy',pinfo) # this is the first prover\n",
        "      alice = Peggy('alice',pinfo) # this is a second prover\n",
        "      kevin = Kevin(pinfo,[peggy,alice]) # this is the verifier\n",
        "\n",
        "      # commitment step\n",
        "      cmt = peggy.commitment()\n",
        "      # challenge step\n",
        "      kevin.generate_challenge(peggy)\n",
        "      c = kevin.get_challenge(peggy)\n",
        "      # response step\n",
        "      s = peggy.solve_challenge(c)\n",
        "      # verification step\n",
        "      resp = kevin.check_response(alice,cmt,s) # another prover tries to solve\n",
        "                                              # the challenge\n",
        "      self.assertFalse(resp)\n",
        "\n",
        "    def test_05(self):\n",
        "      \"\"\"\n",
        "      it tests that non-registered users do not hold a chance to\n",
        "      successfully go through the protocol.\n",
        "      \"\"\"\n",
        "      peggy = Peggy('peggy',pinfo)\n",
        "      kevin = Kevin(pinfo,[]) # peggy IS NOT registered with the server\n",
        "      resp = kevin.protocol(peggy)\n",
        "      self.assertFalse(resp) \n",
        "\n",
        "    def test_06(self):\n",
        "      \"\"\"|\n",
        "      it conductes a few checks related with the generation of challenges\n",
        "      \"\"\"\n",
        "      peggy = Peggy('peggy',pinfo)\n",
        "      kevin = Kevin(pinfo,[peggy])\n",
        "      self.assertTrue(kevin.get_challenge(peggy) == None) \n",
        "      c1 = 33\n",
        "      kevin.set_challenge(peggy,c1)\n",
        "      self.assertTrue(kevin.get_challenge(peggy) == c1)  \n",
        "      c2 = 55\n",
        "      kevin.set_challenge(peggy,c2)\n",
        "      self.assertTrue(kevin.get_challenge(peggy) == c2) \n",
        "\n",
        "\n",
        "if __name__ == '__main__':\n",
        "    unittest.main(argv=['first-arg-is-ignored'], exit=False)\n"
      ]
    }
  ],
  "metadata": {
    "colab": {
      "provenance": []
    },
    "kernelspec": {
      "display_name": "Python 3",
      "name": "python3"
    },
    "language_info": {
      "name": "python"
    }
  },
  "nbformat": 4,
  "nbformat_minor": 0
}